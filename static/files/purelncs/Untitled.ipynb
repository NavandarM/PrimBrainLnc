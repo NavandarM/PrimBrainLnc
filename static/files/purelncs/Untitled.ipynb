{
 "cells": [
  {
   "cell_type": "code",
   "execution_count": 34,
   "metadata": {},
   "outputs": [],
   "source": [
    "from Bio import SeqIO\n",
    "\n",
    "def convert_fasta_to_columns(fasta_file):\n",
    "    headers = []\n",
    "    sequences = []\n",
    "    \n",
    "    # Parse the FASTA file\n",
    "    for record in SeqIO.parse(fasta_file, \"fasta\"):\n",
    "        headers.append(record.id)\n",
    "        sequences.append(str(record.seq))\n",
    "        \n",
    "    out_file = fasta_file + \"col.txt\"\n",
    "    \n",
    "    # write in the file: headers and sequences as columns\n",
    "    with open(out_file, 'w') as f:\n",
    "        for header, sequence in zip(headers, sequences):\n",
    "            f.write(header + \"\\t\" + sequence + \"\\n\" )\n",
    "\n",
    "# Usage\n",
    "fasta_file=\"Hsapiens_Pure_lncrnas.gtf.fasta\"\n",
    "convert_fasta_to_columns(fasta_file)"
   ]
  },
  {
   "cell_type": "code",
   "execution_count": 31,
   "metadata": {},
   "outputs": [
    {
     "name": "stdout",
     "output_type": "stream",
     "text": [
      "Requirement already satisfied: biopython in c:\\users\\mnava\\anaconda3\\lib\\site-packages (1.81)\n",
      "Requirement already satisfied: numpy in c:\\users\\mnava\\anaconda3\\lib\\site-packages (from biopython) (1.18.1)\n",
      "Note: you may need to restart the kernel to use updated packages.\n"
     ]
    }
   ],
   "source": [
    "pip install biopython"
   ]
  },
  {
   "cell_type": "code",
   "execution_count": 72,
   "metadata": {},
   "outputs": [],
   "source": [
    "import pandas as pd\n",
    "import re\n",
    "import numpy as np\n",
    "\n",
    "input_file = \"Gibbon_pure_lncRNAs.gtf.fasta\"\n",
    "df = open(input_file,'r')\n",
    "lines = df.readlines()\n",
    "df.close()\n",
    "\n",
    "for index, line in enumerate(lines):\n",
    "    lines[index] = line.strip()\n",
    "\n",
    "df_result = pd.DataFrame(columns=('ID', 'name'))\n",
    "i = 0\n",
    "ID = \"\" \n",
    "name = \"\"  \n",
    "for line in lines:\n",
    "    if '>' in line:\n",
    "        ID1 = line.replace('>', \"\")\n",
    "        ID = ID1.split() \n",
    "    else:\n",
    "        name = re.sub(r']', \"\", line)\n",
    "        df_result.loc[i] = [ID[0], name]\n",
    "        i =i+1\n",
    "\n",
    "df_result.head()\n",
    "output_file = input_file + \"col.txt\"\n",
    "df_result.to_csv(output_file, sep='\\t', index=False)"
   ]
  },
  {
   "cell_type": "code",
   "execution_count": 70,
   "metadata": {},
   "outputs": [],
   "source": []
  },
  {
   "cell_type": "code",
   "execution_count": null,
   "metadata": {},
   "outputs": [],
   "source": []
  }
 ],
 "metadata": {
  "kernelspec": {
   "display_name": "Python 3",
   "language": "python",
   "name": "python3"
  },
  "language_info": {
   "codemirror_mode": {
    "name": "ipython",
    "version": 3
   },
   "file_extension": ".py",
   "mimetype": "text/x-python",
   "name": "python",
   "nbconvert_exporter": "python",
   "pygments_lexer": "ipython3",
   "version": "3.7.6"
  }
 },
 "nbformat": 4,
 "nbformat_minor": 4
}
